{
 "cells": [
  {
   "cell_type": "markdown",
   "source": [
    "# Обучение линейной регрессии\n",
    "\n",
    "### Основные задачи\n",
    "\n",
    "- В векторном виде записывать формулу предсказания линейной регрессии;\n",
    "- Объяснять, что такое функция потерь;\n",
    "- Создавать класс линейной регрессии.\n",
    "\n",
    "### Как получить минимальное значение MSE, чтобы минимизировать дoss function?\n",
    "- Транспонированная матрица признаков умножается на себя;\n",
    "- Вычисляется обратная к результату матрица;\n",
    "- Обратная умножается на транспонированную матрицу признаков;\n",
    "- Результат умножается на вектор значений целевого признака."
   ],
   "metadata": {
    "collapsed": false
   }
  },
  {
   "cell_type": "markdown",
   "source": [
    "## Task 1\n",
    "\n",
    "Напишите код для обучения и проверки модели (только на обучающей выборке), а вместо модели сделайте заглушку (англ. dummy code) — простой код, который ничего не значит. Вы убедитесь, что ваш код работает, а затем приступите к написанию модели.\n",
    "\n",
    "Чтобы создать заглушку:\n",
    "\n",
    "- Создайте класс LinearRegression;\n",
    "- Напишите метод fit(), который примет на вход признаки и целевой признак. Создаст атрибуты w и w0 и присвоит им значения None;\n",
    "- Напишите метод predict(), который примет признаки, а вернёт предсказание 0 на всех объектах.\n",
    "\n",
    "\n",
    "Создайте модель, сохраните её в переменной model и обучите. Найдите её предсказания на обучающей выборке и сохраните их в переменной predictions. Напечатайте на экране значение метрики R2. Она вычисляется по MSE. Сравнив её значение с нулём, выясните, проходит модель проверку на вменяемость или нет."
   ],
   "metadata": {
    "collapsed": false
   }
  },
  {
   "cell_type": "code",
   "execution_count": 19,
   "outputs": [],
   "source": [
    "import numpy as np\n",
    "import pandas as pd\n",
    "from sklearn.metrics import r2_score\n",
    "from sklearn.linear_model import LinearRegression"
   ],
   "metadata": {
    "collapsed": false
   }
  },
  {
   "cell_type": "code",
   "execution_count": 2,
   "outputs": [],
   "source": [
    "columns = ['комнаты', 'площадь', 'кухня', 'пл. жилая', 'этаж', 'всего этажей', 'цена']\n",
    "\n",
    "data = pd.DataFrame([\n",
    "    [1, 38.5, 6.9, 18.9, 3, 5, 4200000],\n",
    "    [1, 38.0, 8.5, 19.2, 9, 17, 3500000],\n",
    "    [1, 34.7, 10.3, 19.8, 1, 9, 5100000],\n",
    "    [1, 45.9, 11.1, 17.5, 11, 23, 6300000],\n",
    "    [1, 42.4, 10.0, 19.9, 6, 14, 5900000],\n",
    "    [1, 46.0, 10.2, 20.5, 3, 12, 8100000],\n",
    "    [2, 77.7, 13.2, 39.3, 3, 17, 7400000],\n",
    "    [2, 69.8, 11.1, 31.4, 12, 23, 7200000],\n",
    "    [2, 78.2, 19.4, 33.2, 4, 9, 6800000],\n",
    "    [2, 55.5, 7.8, 29.6, 1, 25, 9300000],\n",
    "    [2, 74.3, 16.0, 34.2, 14, 17, 10600000],\n",
    "    [2, 78.3, 12.3, 42.6, 23, 23, 8500000],\n",
    "    [2, 74.0, 18.1, 49.0, 8, 9, 6000000],\n",
    "    [2, 91.4, 20.1, 60.4, 2, 10, 7200000],\n",
    "    [3, 85.0, 17.8, 56.1, 14, 14, 12500000],\n",
    "    [3, 79.8, 9.8, 44.8, 9, 10, 13200000],\n",
    "    [3, 72.0, 10.2, 37.3, 7, 9, 15100000],\n",
    "    [3, 95.3, 11.0, 51.5, 15, 23, 9800000],\n",
    "    [3, 69.3, 8.5, 39.3, 4, 9, 11400000],\n",
    "    [3, 89.8, 11.2, 58.2, 24, 25, 16300000],\n",
    "], columns=columns)\n",
    "\n",
    "features = data.drop('цена', axis=1)\n",
    "target = data['цена']\n",
    "\n",
    "class LinearRegression:\n",
    "    def fit(self, train_features, train_target):\n",
    "        self.w = None\n",
    "        self.w0 = None\n",
    "\n",
    "    def predict(self, test_features):\n",
    "        return np.zeros(target.shape)"
   ],
   "metadata": {
    "collapsed": false
   }
  },
  {
   "cell_type": "code",
   "execution_count": 3,
   "outputs": [],
   "source": [
    "model = LinearRegression()"
   ],
   "metadata": {
    "collapsed": false
   }
  },
  {
   "cell_type": "code",
   "execution_count": 4,
   "outputs": [],
   "source": [
    "predictions = model.predict(features)"
   ],
   "metadata": {
    "collapsed": false
   }
  },
  {
   "cell_type": "code",
   "execution_count": 5,
   "outputs": [
    {
     "name": "stdout",
     "output_type": "stream",
     "text": [
      "-6.411007874812404\n"
     ]
    }
   ],
   "source": [
    "print(r2_score(target, predictions))"
   ],
   "metadata": {
    "collapsed": false
   }
  },
  {
   "cell_type": "markdown",
   "source": [
    "## Task 2\n",
    "\n",
    "Напишите метод predict() для вычисления предсказания линейной регрессии.\n",
    "\n",
    "В методе fit() обновите заглушку для параметров w и w0. Вектор w заполните нулями, а в w0 сохраните среднее значение целевого признака.\n",
    "\n",
    "Чтобы вычислить вектор предсказаний в методе predict(), умножьте матрицу признаков на вектор w и прибавьте w0."
   ],
   "metadata": {
    "collapsed": false
   }
  },
  {
   "cell_type": "code",
   "execution_count": 10,
   "outputs": [],
   "source": [
    "columns = ['комнаты', 'площадь', 'кухня', 'пл. жилая', 'этаж', 'всего этажей', 'цена']\n",
    "\n",
    "data = pd.DataFrame([\n",
    "    [1, 38.5, 6.9, 18.9, 3, 5, 4200000],\n",
    "    [1, 38.0, 8.5, 19.2, 9, 17, 3500000],\n",
    "    [1, 34.7, 10.3, 19.8, 1, 9, 5100000],\n",
    "    [1, 45.9, 11.1, 17.5, 11, 23, 6300000],\n",
    "    [1, 42.4, 10.0, 19.9, 6, 14, 5900000],\n",
    "    [1, 46.0, 10.2, 20.5, 3, 12, 8100000],\n",
    "    [2, 77.7, 13.2, 39.3, 3, 17, 7400000],\n",
    "    [2, 69.8, 11.1, 31.4, 12, 23, 7200000],\n",
    "    [2, 78.2, 19.4, 33.2, 4, 9, 6800000],\n",
    "    [2, 55.5, 7.8, 29.6, 1, 25, 9300000],\n",
    "    [2, 74.3, 16.0, 34.2, 14, 17, 10600000],\n",
    "    [2, 78.3, 12.3, 42.6, 23, 23, 8500000],\n",
    "    [2, 74.0, 18.1, 49.0, 8, 9, 6000000],\n",
    "    [2, 91.4, 20.1, 60.4, 2, 10, 7200000],\n",
    "    [3, 85.0, 17.8, 56.1, 14, 14, 12500000],\n",
    "    [3, 79.8, 9.8, 44.8, 9, 10, 13200000],\n",
    "    [3, 72.0, 10.2, 37.3, 7, 9, 15100000],\n",
    "    [3, 95.3, 11.0, 51.5, 15, 23, 9800000],\n",
    "    [3, 69.3, 8.5, 39.3, 4, 9, 11400000],\n",
    "    [3, 89.8, 11.2, 58.2, 24, 25, 16300000],\n",
    "], columns=columns)\n",
    "\n",
    "features = data.drop('цена', axis=1)\n",
    "target = data['цена']\n",
    "\n",
    "class LinearRegression:\n",
    "    def fit(self, train_features, train_target):\n",
    "        self.w = np.zeros(train_features.shape[1])\n",
    "        self.w0 = train_target.mean()\n",
    "\n",
    "    def predict(self, test_features):\n",
    "        return np.dot(test_features, self.w) + self.w0"
   ],
   "metadata": {
    "collapsed": false
   }
  },
  {
   "cell_type": "code",
   "execution_count": 11,
   "outputs": [],
   "source": [
    "model.fit(features, target)"
   ],
   "metadata": {
    "collapsed": false
   }
  },
  {
   "cell_type": "code",
   "execution_count": 12,
   "outputs": [],
   "source": [
    "predictions = model.predict(features)"
   ],
   "metadata": {
    "collapsed": false
   }
  },
  {
   "cell_type": "code",
   "execution_count": 13,
   "outputs": [
    {
     "name": "stdout",
     "output_type": "stream",
     "text": [
      "0.0\n"
     ]
    }
   ],
   "source": [
    "print(r2_score(target, predictions))"
   ],
   "metadata": {
    "collapsed": false
   }
  },
  {
   "cell_type": "markdown",
   "source": [
    "## Task 3\n",
    "\n",
    "Формула вычисления весов:\n",
    "\n",
    "- Транспонированная матрица признаков умножается на себя: X.T.dot(X)\n",
    "- Вычисляется обратная к результату матрица: np.linalg.inv(...)\n",
    "- Обратная умножается на транспонированную матрицу признаков: ... .dot(X.T)\n",
    "- Результат умножается на вектор значений целевого признака: ... .dot(y)"
   ],
   "metadata": {
    "collapsed": false
   }
  },
  {
   "cell_type": "code",
   "execution_count": 14,
   "outputs": [],
   "source": [
    "columns = ['комнаты', 'площадь', 'кухня', 'пл. жилая', 'этаж', 'всего этажей', 'цена']\n",
    "\n",
    "data = pd.DataFrame([\n",
    "    [1, 38.5, 6.9, 18.9, 3, 5, 4200000],\n",
    "    [1, 38.0, 8.5, 19.2, 9, 17, 3500000],\n",
    "    [1, 34.7, 10.3, 19.8, 1, 9, 5100000],\n",
    "    [1, 45.9, 11.1, 17.5, 11, 23, 6300000],\n",
    "    [1, 42.4, 10.0, 19.9, 6, 14, 5900000],\n",
    "    [1, 46.0, 10.2, 20.5, 3, 12, 8100000],\n",
    "    [2, 77.7, 13.2, 39.3, 3, 17, 7400000],\n",
    "    [2, 69.8, 11.1, 31.4, 12, 23, 7200000],\n",
    "    [2, 78.2, 19.4, 33.2, 4, 9, 6800000],\n",
    "    [2, 55.5, 7.8, 29.6, 1, 25, 9300000],\n",
    "    [2, 74.3, 16.0, 34.2, 14, 17, 10600000],\n",
    "    [2, 78.3, 12.3, 42.6, 23, 23, 8500000],\n",
    "    [2, 74.0, 18.1, 49.0, 8, 9, 6000000],\n",
    "    [2, 91.4, 20.1, 60.4, 2, 10, 7200000],\n",
    "    [3, 85.0, 17.8, 56.1, 14, 14, 12500000],\n",
    "    [3, 79.8, 9.8, 44.8, 9, 10, 13200000],\n",
    "    [3, 72.0, 10.2, 37.3, 7, 9, 15100000],\n",
    "    [3, 95.3, 11.0, 51.5, 15, 23, 9800000],\n",
    "    [3, 69.3, 8.5, 39.3, 4, 9, 11400000],\n",
    "    [3, 89.8, 11.2, 58.2, 24, 25, 16300000],\n",
    "], columns=columns)\n",
    "\n",
    "features = data.drop('цена', axis=1)\n",
    "target = data['цена']\n",
    "\n",
    "class LinearRegression:\n",
    "    def fit(self, train_features, train_target):\n",
    "        X = np.concatenate((np.ones((train_features.shape[0], 1)), train_features), axis=1)\n",
    "        y = train_target\n",
    "        # WRONG!!! w = np.dot(np.linalg.inv(X.T.dot(X)), np.dot(X.T, y))\n",
    "        #CORRECT!!!\n",
    "        w = np.dot(np.linalg.inv(X.T.dot(X)), X.T).dot(y)\n",
    "        # Вообще через np.dot просто запутаться. Лучше использовать метод dot:\n",
    "        # w = np.linalg.inv(X.T.dot(X)).dot(X.T).dot(y)\n",
    "        self.w = w[1:]\n",
    "        self.w0 = w[0]\n",
    "\n",
    "    def predict(self, test_features):\n",
    "        return test_features.dot(self.w) + self.w0"
   ],
   "metadata": {
    "collapsed": false
   }
  },
  {
   "cell_type": "code",
   "execution_count": 15,
   "outputs": [],
   "source": [
    "model = LinearRegression()"
   ],
   "metadata": {
    "collapsed": false
   }
  },
  {
   "cell_type": "code",
   "execution_count": 16,
   "outputs": [],
   "source": [
    "model.fit(features, target)"
   ],
   "metadata": {
    "collapsed": false
   }
  },
  {
   "cell_type": "code",
   "execution_count": 17,
   "outputs": [],
   "source": [
    "predictions = model.predict(features)"
   ],
   "metadata": {
    "collapsed": false
   }
  },
  {
   "cell_type": "code",
   "execution_count": 18,
   "outputs": [
    {
     "name": "stdout",
     "output_type": "stream",
     "text": [
      "0.7781189439686584\n"
     ]
    }
   ],
   "source": [
    "print(r2_score(target, predictions))"
   ],
   "metadata": {
    "collapsed": false
   }
  },
  {
   "cell_type": "code",
   "execution_count": null,
   "outputs": [],
   "source": [],
   "metadata": {
    "collapsed": false
   }
  },
  {
   "cell_type": "code",
   "execution_count": null,
   "outputs": [],
   "source": [],
   "metadata": {
    "collapsed": false
   }
  },
  {
   "cell_type": "code",
   "execution_count": null,
   "outputs": [],
   "source": [],
   "metadata": {
    "collapsed": false
   }
  },
  {
   "cell_type": "code",
   "execution_count": null,
   "outputs": [],
   "source": [],
   "metadata": {
    "collapsed": false
   }
  },
  {
   "cell_type": "code",
   "execution_count": null,
   "outputs": [],
   "source": [],
   "metadata": {
    "collapsed": false
   }
  },
  {
   "cell_type": "code",
   "execution_count": null,
   "outputs": [],
   "source": [],
   "metadata": {
    "collapsed": false
   }
  },
  {
   "cell_type": "code",
   "execution_count": null,
   "outputs": [],
   "source": [],
   "metadata": {
    "collapsed": false
   }
  }
 ],
 "metadata": {
  "kernelspec": {
   "display_name": "Python 3",
   "language": "python",
   "name": "python3"
  },
  "language_info": {
   "codemirror_mode": {
    "name": "ipython",
    "version": 2
   },
   "file_extension": ".py",
   "mimetype": "text/x-python",
   "name": "python",
   "nbconvert_exporter": "python",
   "pygments_lexer": "ipython2",
   "version": "2.7.6"
  }
 },
 "nbformat": 4,
 "nbformat_minor": 0
}
