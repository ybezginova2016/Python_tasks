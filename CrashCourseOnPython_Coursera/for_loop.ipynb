{
 "cells": [
  {
   "cell_type": "markdown",
   "source": [
    "# Loops\n",
    "\n",
    "## Полезная переменная снаружи цикла"
   ],
   "metadata": {
    "collapsed": false
   }
  },
  {
   "cell_type": "code",
   "execution_count": 1,
   "outputs": [
    {
     "name": "stdout",
     "output_type": "stream",
     "text": [
      "1, 2, 3, 4, 5, вышел зайчик погулять!\n"
     ]
    }
   ],
   "source": [
    "bunny_counter = ''  # Создали переменную bunny_counter, её значение - пустая строка.\n",
    "\n",
    "for i in range(1, 6):\n",
    "    # На каждой итерации цикла\n",
    "    # к переменной bunny_counter будет дописываться\n",
    "    # очередная цифра, запятая и пробел (чтобы числа в строке не слиплись).\n",
    "    # Получившееся значение будет присвоено той же переменной bunny_counter\n",
    "    bunny_counter = bunny_counter + str(i) + ', '\n",
    "\n",
    "print(bunny_counter + 'вышел зайчик погулять!')"
   ],
   "metadata": {
    "collapsed": false
   }
  },
  {
   "cell_type": "code",
   "execution_count": 2,
   "outputs": [
    {
     "name": "stdout",
     "output_type": "stream",
     "text": [
      "10, 9, 8, 7, 6, 5, 4, 3, 2, 1, 0, поехали!\n"
     ]
    }
   ],
   "source": [
    "countdown_str = ''\n",
    "\n",
    "for i in reversed(range(0, 11)):\n",
    "    countdown_str = countdown_str + str(i) + ', '\n",
    "\n",
    "countdown_str = countdown_str + 'поехали!'\n",
    "\n",
    "print(countdown_str)"
   ],
   "metadata": {
    "collapsed": false
   }
  },
  {
   "cell_type": "code",
   "execution_count": 3,
   "outputs": [
    {
     "name": "stdout",
     "output_type": "stream",
     "text": [
      "False\n"
     ]
    }
   ],
   "source": [
    "check = (2*2 > 6)\n",
    "print(check)\n",
    "\n",
    "# Будет напечатано: False"
   ],
   "metadata": {
    "collapsed": false
   }
  },
  {
   "cell_type": "code",
   "execution_count": 4,
   "outputs": [
    {
     "name": "stdout",
     "output_type": "stream",
     "text": [
      "True\n"
     ]
    }
   ],
   "source": [
    "check = (2*2 == 4)\n",
    "print(check)\n",
    "\n",
    "# Будет напечатано: True"
   ],
   "metadata": {
    "collapsed": false
   }
  }
 ],
 "metadata": {
  "kernelspec": {
   "display_name": "Python 3",
   "language": "python",
   "name": "python3"
  },
  "language_info": {
   "codemirror_mode": {
    "name": "ipython",
    "version": 2
   },
   "file_extension": ".py",
   "mimetype": "text/x-python",
   "name": "python",
   "nbconvert_exporter": "python",
   "pygments_lexer": "ipython2",
   "version": "2.7.6"
  }
 },
 "nbformat": 4,
 "nbformat_minor": 0
}
