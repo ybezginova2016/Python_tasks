{
 "cells": [
  {
   "cell_type": "code",
   "execution_count": 1,
   "metadata": {
    "collapsed": true
   },
   "outputs": [
    {
     "name": "stdout",
     "output_type": "stream",
     "text": [
      "Штиль\n"
     ]
    }
   ],
   "source": [
    "# Проверим значение переменной beaufort.\n",
    "# Если ветер в 0 баллов, то сообщим о штиле (ветра нет).\n",
    "beaufort = 0\n",
    "if beaufort == 0:\n",
    "    print('Штиль')\n",
    "# А если условие ложно (сила ветра не равна нулю) - этот фрагмент кода будет пропущен\n",
    "# и не произойдёт вообще ничего"
   ]
  },
  {
   "cell_type": "markdown",
   "source": [
    "### Task 1"
   ],
   "metadata": {
    "collapsed": false
   }
  },
  {
   "cell_type": "code",
   "execution_count": 2,
   "outputs": [
    {
     "name": "stdout",
     "output_type": "stream",
     "text": [
      "Новых сообщений: 1\n",
      "Новых сообщений: 2\n",
      "Новых сообщений: 3\n",
      "Новых сообщений: 4\n",
      "Новых сообщений: 5\n"
     ]
    }
   ],
   "source": [
    "for messages_count in range(6):\n",
    "    if messages_count > 0:\n",
    "        print('Новых сообщений: ' + str(messages_count))"
   ],
   "metadata": {
    "collapsed": false
   }
  },
  {
   "cell_type": "markdown",
   "source": [
    "### Task 2\n",
    "\n",
    "Дополните код: в случае, если переменная messages_count равна нулю — Анфиса должна печатать фразу 'У вас нет сообщений'."
   ],
   "metadata": {
    "collapsed": false
   }
  },
  {
   "cell_type": "code",
   "execution_count": 3,
   "outputs": [
    {
     "name": "stdout",
     "output_type": "stream",
     "text": [
      "У вас нет сообщений\n",
      "Новых сообщений: 1\n",
      "Новых сообщений: 2\n",
      "Новых сообщений: 3\n",
      "Новых сообщений: 4\n",
      "Новых сообщений: 5\n"
     ]
    }
   ],
   "source": [
    "for messages_count in range(6):\n",
    "    if messages_count > 0:\n",
    "        print('Новых сообщений: ' + str(messages_count))\n",
    "    else:\n",
    "        print('У вас нет сообщений')"
   ],
   "metadata": {
    "collapsed": false
   }
  },
  {
   "cell_type": "markdown",
   "source": [
    "### Task 3\n",
    "\n",
    "Функция range(24) перебирает все числа от 0 до 23 и по очереди передаёт их в тело цикла в переменной current_hour («текущее время»).\n",
    "\n",
    "\n",
    "Научите Анфису желать вам доброго утра, если в переменной current_hour записано значение меньше 12.\n"
   ],
   "metadata": {
    "collapsed": false
   }
  },
  {
   "cell_type": "code",
   "execution_count": 4,
   "outputs": [
    {
     "name": "stdout",
     "output_type": "stream",
     "text": [
      "Good morning!\n",
      "Good morning!\n",
      "Good morning!\n",
      "Good morning!\n",
      "Good morning!\n",
      "Good morning!\n",
      "Good morning!\n",
      "Good morning!\n",
      "Good morning!\n",
      "Good morning!\n",
      "Good morning!\n",
      "Good morning!\n"
     ]
    }
   ],
   "source": [
    "for current_hour in range(24):\n",
    "    if current_hour < 12:\n",
    "        print('Good morning!')"
   ],
   "metadata": {
    "collapsed": false
   }
  },
  {
   "cell_type": "markdown",
   "source": [
    "### Task 4\n",
    "\n",
    "Расширьте код из прошлой задачи. Если на часах полдень или больше — пусть Анфиса скажет: 'Добрый день!'"
   ],
   "metadata": {
    "collapsed": false
   }
  },
  {
   "cell_type": "code",
   "execution_count": 5,
   "outputs": [
    {
     "name": "stdout",
     "output_type": "stream",
     "text": [
      "Good morning!\n",
      "Good morning!\n",
      "Good morning!\n",
      "Good morning!\n",
      "Good morning!\n",
      "Good morning!\n",
      "Good morning!\n",
      "Good morning!\n",
      "Good morning!\n",
      "Good morning!\n",
      "Good morning!\n",
      "Good morning!\n",
      "Good afterrnoon!\n",
      "Good afterrnoon!\n",
      "Good afterrnoon!\n",
      "Good afterrnoon!\n",
      "Good afterrnoon!\n",
      "Good afterrnoon!\n",
      "Good afterrnoon!\n",
      "Good afterrnoon!\n",
      "Good afterrnoon!\n",
      "Good afterrnoon!\n",
      "Good afterrnoon!\n",
      "Good afterrnoon!\n"
     ]
    }
   ],
   "source": [
    "for current_hour in range(24):\n",
    "    if current_hour < 12:\n",
    "        print('Good morning!')\n",
    "    else:\n",
    "        print('Good afterrnoon!')"
   ],
   "metadata": {
    "collapsed": false
   }
  }
 ],
 "metadata": {
  "kernelspec": {
   "display_name": "Python 3",
   "language": "python",
   "name": "python3"
  },
  "language_info": {
   "codemirror_mode": {
    "name": "ipython",
    "version": 2
   },
   "file_extension": ".py",
   "mimetype": "text/x-python",
   "name": "python",
   "nbconvert_exporter": "python",
   "pygments_lexer": "ipython2",
   "version": "2.7.6"
  }
 },
 "nbformat": 4,
 "nbformat_minor": 0
}
