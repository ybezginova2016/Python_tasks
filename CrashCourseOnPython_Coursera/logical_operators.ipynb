{
 "cells": [
  {
   "cell_type": "markdown",
   "source": [
    "# Составные логические выражения"
   ],
   "metadata": {
    "collapsed": false
   }
  },
  {
   "cell_type": "code",
   "execution_count": 1,
   "outputs": [
    {
     "name": "stdout",
     "output_type": "stream",
     "text": [
      "True\n",
      "False\n",
      "True\n"
     ]
    }
   ],
   "source": [
    "print(True)\n",
    "# Без неожиданностей, будет напечатано: True\n",
    "\n",
    "print(not True)\n",
    "# Будет напечатано: False\n",
    "\n",
    "print(not False)\n",
    "# Будет напечатано: True"
   ],
   "metadata": {
    "collapsed": false
   }
  },
  {
   "cell_type": "code",
   "execution_count": 2,
   "outputs": [
    {
     "name": "stdout",
     "output_type": "stream",
     "text": [
      "True\n",
      "False\n"
     ]
    }
   ],
   "source": [
    "print(5 > 3)\n",
    "# Будет напечатано: True\n",
    "\n",
    "print(not 5 > 3)\n",
    "# Будет напечатано: False"
   ],
   "metadata": {
    "collapsed": false
   }
  },
  {
   "cell_type": "code",
   "execution_count": 3,
   "outputs": [
    {
     "name": "stdout",
     "output_type": "stream",
     "text": [
      "Поднялся ветер\n",
      "Серые тучи развеял\n",
      "Новые тянутся с юга\n"
     ]
    }
   ],
   "source": [
    "wind = True\n",
    "\n",
    "# Есть ли ветер?\n",
    "if not wind: # Если wind НЕ равен True\n",
    "    print('Ночь тиха')\n",
    "else:\n",
    "    print('Поднялся ветер')\n",
    "    print('Серые тучи развеял')\n",
    "    print('Новые тянутся с юга')"
   ],
   "metadata": {
    "collapsed": false
   }
  },
  {
   "cell_type": "markdown",
   "source": [
    "## Приоритетность логических операторов\n",
    "Итак, в любом составном выражении сначала выполняется оператор not, затем — and, а последним — or."
   ],
   "metadata": {
    "collapsed": false
   }
  },
  {
   "cell_type": "code",
   "execution_count": 4,
   "outputs": [
    {
     "name": "stdout",
     "output_type": "stream",
     "text": [
      "Выражение вернуло True!\n"
     ]
    }
   ],
   "source": [
    "x = 44\n",
    "\n",
    "if not x > 40 or x < 45 and x != 42:\n",
    "    print(\"Выражение вернуло True!\")\n",
    "else:\n",
    "    print(\"Выражение вернуло False!\")"
   ],
   "metadata": {
    "collapsed": false
   }
  },
  {
   "cell_type": "markdown",
   "source": [
    "#### Сперва сработал оператор not и вернул False, потом оператор and вернул True, а последним был оператор or, а False or True == True\n",
    "\n",
    "сперва выполнится оператор not, значит, вместо выражения not x > 40 будет False (ведь x = 44, 44 > 40 == True, а not True == False);\n",
    "потом выполнится оператор and: выражение 44 < 45 and 44 != 42 вернёт True;\n",
    "а потом сработает or: False or True вернёт True"
   ],
   "metadata": {
    "collapsed": false
   }
  },
  {
   "cell_type": "code",
   "execution_count": 5,
   "outputs": [
    {
     "name": "stdout",
     "output_type": "stream",
     "text": [
      "Идём гулять, на улице хорошо\n"
     ]
    }
   ],
   "source": [
    "# Передадим в программу данные\n",
    "beaufort = 6        # Сильный ветер\n",
    "is_raining = False  # Дождя нет\n",
    "temperature = 16    # Не жарко\n",
    "\n",
    "if not is_raining or beaufort <= 4 and temperature > 22:\n",
    "    print('Идём гулять, на улице хорошо')\n",
    "else:\n",
    "    print('Сидим дома, читаем Практикум')"
   ],
   "metadata": {
    "collapsed": false
   }
  },
  {
   "cell_type": "markdown",
   "source": [
    "Странный результат, что-то пошло не так.\n",
    "Как так «на улице хорошо», если за окном лишь 16 градусов, а прогулка предусмотрена от +22°?\n",
    "Разберёмся.\n",
    "Вначале вычисляется значение каждого выражения, в том числе и с not:\n",
    "not is_raining — результат True\n",
    "beaufort <= 4 — результат False\n",
    "temperature > 22 — результат False\n",
    "Затем применяются оставшиеся логические операторы, сначала and, у него приоритет выше\n",
    "beaufort <= 4 and temperature > 22 → False and False → False\n",
    "Далее идет проверка: если истинно хотя бы одно из условий,\n",
    "not is_raining или beaufort <= 4 and temperature > 22 — сообщается о хорошей погоде.\n",
    "Да, выражение not is_raining истинно, значит, выводится сообщение Идём гулять, на улице хорошо, хотя на самом деле всё наоборот.\n",
    "Чтобы исправить код — переопределим порядок вычислений скобками"
   ],
   "metadata": {
    "collapsed": false
   }
  },
  {
   "cell_type": "code",
   "execution_count": 6,
   "outputs": [
    {
     "name": "stdout",
     "output_type": "stream",
     "text": [
      "Сидим дома, читаем Практикум\n"
     ]
    }
   ],
   "source": [
    "# передадим в программу данные\n",
    "beaufort = 6  # сильный ветер\n",
    "is_raining = False  # дождя нет\n",
    "temperature = 16\n",
    "\n",
    "if (not is_raining or beaufort <= 4) and temperature > 22:\n",
    "    print('Идём гулять, на улице хорошо')\n",
    "else:\n",
    "    print('Сидим дома, читаем Практикум')"
   ],
   "metadata": {
    "collapsed": false
   }
  },
  {
   "cell_type": "markdown",
   "source": [
    "Теперь вычисления прошли в нужном порядке, в первую очередь были выполнены операции в скобках:\n",
    "- not is_raining or beaufort <= 4 → True or False → True\n",
    "- (not is_raining or beaufort <= 4) and temperature > 22 → True and False → False"
   ],
   "metadata": {
    "collapsed": false
   }
  },
  {
   "cell_type": "code",
   "execution_count": 7,
   "outputs": [
    {
     "name": "stdout",
     "output_type": "stream",
     "text": [
      "Этот чистит валенки,\n",
      "моет сам галоши.\n",
      "Он хотя и маленький,\n",
      "но вполне хороший.\n"
     ]
    }
   ],
   "source": [
    "good_boy = True  # Мальчик-то неплохой\n",
    "\n",
    "if not good_boy:\n",
    "    print('Этот в грязь полез')\n",
    "    print('и рад,')\n",
    "    print('что грязна рубаха.')\n",
    "    print('Про такого говорят:')\n",
    "    print('он плохой, неряха.')\n",
    "else:\n",
    "    print('Этот чистит валенки,')\n",
    "    print('моет сам галоши.')\n",
    "    print('Он хотя и маленький,')\n",
    "    print('но вполне хороший.')\n"
   ],
   "metadata": {
    "collapsed": false
   }
  },
  {
   "cell_type": "code",
   "execution_count": 8,
   "outputs": [
    {
     "name": "stdout",
     "output_type": "stream",
     "text": [
      "Сегодня на завтрак можно погрызть сухих хлопьев\n"
     ]
    }
   ],
   "source": [
    "# Продуктов маловато:\n",
    "milk = not True       # Молоко \"НЕ есть\".\n",
    "cereals = True        # Хлопья есть.\n",
    "eggs = False          # Яиц нет.\n",
    "\n",
    "# Вставьте логический оператор вместо многоточия.\n",
    "# Решите, нужно ли расставить скобки.\n",
    "\n",
    "if milk and cereals or eggs:\n",
    "    if eggs:\n",
    "        if milk:\n",
    "            breakfast = \"- омлет\"\n",
    "        else:\n",
    "            breakfast = \"- яичница\"\n",
    "    else:\n",
    "        breakfast = \"- хлопья с молоком\"\n",
    "else:\n",
    "    if milk:\n",
    "        breakfast = \"- стакан молока\"\n",
    "    elif cereals:\n",
    "        breakfast = \"можно погрызть сухих хлопьев\"\n",
    "    else:\n",
    "        breakfast = \"ничего не будет: разгрузочный день\"\n",
    "\n",
    "print(\"Сегодня на завтрак\", breakfast)"
   ],
   "metadata": {
    "collapsed": false
   }
  },
  {
   "cell_type": "code",
   "execution_count": null,
   "outputs": [],
   "source": [],
   "metadata": {
    "collapsed": false
   }
  },
  {
   "cell_type": "code",
   "execution_count": null,
   "outputs": [],
   "source": [],
   "metadata": {
    "collapsed": false
   }
  }
 ],
 "metadata": {
  "kernelspec": {
   "display_name": "Python 3",
   "language": "python",
   "name": "python3"
  },
  "language_info": {
   "codemirror_mode": {
    "name": "ipython",
    "version": 2
   },
   "file_extension": ".py",
   "mimetype": "text/x-python",
   "name": "python",
   "nbconvert_exporter": "python",
   "pygments_lexer": "ipython2",
   "version": "2.7.6"
  }
 },
 "nbformat": 4,
 "nbformat_minor": 0
}
