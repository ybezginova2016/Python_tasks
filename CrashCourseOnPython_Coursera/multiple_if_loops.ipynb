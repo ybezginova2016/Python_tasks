{
 "cells": [
  {
   "cell_type": "markdown",
   "source": [
    "# Multiple IFs"
   ],
   "metadata": {
    "collapsed": false
   },
   "execution_count": 1
  },
  {
   "cell_type": "code",
   "execution_count": 8,
   "outputs": [
    {
     "name": "stdout",
     "output_type": "stream",
     "text": [
      "Шторм\n"
     ]
    }
   ],
   "source": [
    "beaufort = 11\n",
    "\n",
    "if beaufort == 0:\n",
    "    print('Штиль')\n",
    "else:\n",
    "    if beaufort == 1:\n",
    "        print('Тихий ветер')\n",
    "    else:\n",
    "        if beaufort == 2:\n",
    "            print('Лёгкий ветер')\n",
    "        else:\n",
    "            if beaufort == 3:\n",
    "                print('Слабый ветер')\n",
    "            else:\n",
    "                if beaufort == 4:\n",
    "                    print('Умеренный ветер')\n",
    "                else:\n",
    "                    if beaufort == 5:\n",
    "                        print('Свежий ветер')\n",
    "                    else:\n",
    "                        if beaufort == 6:\n",
    "                            print('Сильный ветер')\n",
    "                        else:\n",
    "                            print('Шторм')"
   ],
   "metadata": {
    "collapsed": false
   }
  },
  {
   "cell_type": "markdown",
   "source": [
    "## elif\n",
    "\n",
    "Как только выполняется одно из условий, все следующие elif и else игнорируются."
   ],
   "metadata": {
    "collapsed": false
   }
  },
  {
   "cell_type": "code",
   "execution_count": 10,
   "outputs": [
    {
     "name": "stdout",
     "output_type": "stream",
     "text": [
      "Шторм\n"
     ]
    }
   ],
   "source": [
    "beaufort = 3\n",
    "\n",
    "if beaufort == 0:\n",
    "    print('Штиль')\n",
    "elif beaufort == 1:\n",
    "    print('Тихий ветер')\n",
    "elif beaufort == 2:\n",
    "    print('Лёгкий ветер')\n",
    "\n",
    "else:\n",
    "    # Если не сработало ни одно условие в предыдущем коде - выполняется код в блоке else\n",
    "    print('Шторм')"
   ],
   "metadata": {
    "collapsed": false
   }
  },
  {
   "cell_type": "markdown",
   "source": [
    "### Task 1\n",
    "\n",
    "Просклоняйте слово «сообщения» в зависимости от их количества:\n",
    "- для 0 — 'У вас нет новых сообщений'\n",
    "- для 1 — 'У вас 1 новое сообщение'\n",
    "- от 2 до 4 — 'У вас <количество> новых сообщения'\n",
    "- 5 и больше — 'У вас <количество> новых сообщений'"
   ],
   "metadata": {
    "collapsed": false
   }
  },
  {
   "cell_type": "code",
   "execution_count": 15,
   "outputs": [
    {
     "name": "stdout",
     "output_type": "stream",
     "text": [
      "У вас нет новых сообщений\n",
      "У вас 1 новое сообщение\n",
      "У вас 2 новых сообщения\n",
      "У вас 3 новых сообщения\n",
      "У вас 4 новых сообщения\n",
      "У вас 5 новых сообщений\n",
      "У вас 6 новых сообщений\n",
      "У вас 7 новых сообщений\n",
      "У вас 8 новых сообщений\n",
      "У вас 9 новых сообщений\n",
      "У вас 10 новых сообщений\n",
      "У вас 11 новых сообщений\n",
      "У вас 12 новых сообщений\n",
      "У вас 13 новых сообщений\n",
      "У вас 14 новых сообщений\n",
      "У вас 15 новых сообщений\n",
      "У вас 16 новых сообщений\n",
      "У вас 17 новых сообщений\n",
      "У вас 18 новых сообщений\n",
      "У вас 19 новых сообщений\n",
      "У вас 20 новых сообщений\n"
     ]
    }
   ],
   "source": [
    "for messages_count in range(0, 21):\n",
    "    if messages_count == 0:\n",
    "        print('У вас нет новых сообщений')\n",
    "    elif messages_count == 1:\n",
    "        print('У вас 1 новое сообщение')\n",
    "    elif messages_count >= 2 and messages_count <= 4:\n",
    "        print('У вас', messages_count, 'новых сообщения')\n",
    "    else:\n",
    "        print('У вас', messages_count, 'новых сообщений')"
   ],
   "metadata": {
    "collapsed": false
   }
  },
  {
   "cell_type": "markdown",
   "source": [
    "### Task 2\n",
    "\n",
    "Анфиса умеет здороваться утром и днём, но ей нужно добавить приветствия для ночи и вечера.\n",
    "Допишите программу, которая переберёт в цикле все ровные часы в сутках и напишет, как принято здороваться в указанное время."
   ],
   "metadata": {
    "collapsed": false
   }
  },
  {
   "cell_type": "code",
   "execution_count": 17,
   "outputs": [
    {
     "name": "stdout",
     "output_type": "stream",
     "text": [
      "На часах 0:00.\n",
      "Доброй ночи!\n",
      "На часах 1:00.\n",
      "Доброй ночи!\n",
      "На часах 2:00.\n",
      "Доброй ночи!\n",
      "На часах 3:00.\n",
      "Доброй ночи!\n",
      "На часах 4:00.\n",
      "Доброй ночи!\n",
      "На часах 5:00.\n",
      "Доброй ночи!\n",
      "На часах 6:00.\n",
      "Доброе утро!\n",
      "На часах 7:00.\n",
      "Доброе утро!\n",
      "На часах 8:00.\n",
      "Доброе утро!\n",
      "На часах 9:00.\n",
      "Доброе утро!\n",
      "На часах 10:00.\n",
      "Доброе утро!\n",
      "На часах 11:00.\n",
      "Доброе утро!\n",
      "На часах 12:00.\n",
      "Добрый день!\n",
      "На часах 13:00.\n",
      "Добрый день!\n",
      "На часах 14:00.\n",
      "Добрый день!\n",
      "На часах 15:00.\n",
      "Добрый день!\n",
      "На часах 16:00.\n",
      "Добрый день!\n",
      "На часах 17:00.\n",
      "Добрый день!\n",
      "На часах 18:00.\n",
      "Добрый вечер!\n",
      "На часах 19:00.\n",
      "Добрый вечер!\n",
      "На часах 20:00.\n",
      "Добрый вечер!\n",
      "На часах 21:00.\n",
      "Добрый вечер!\n",
      "На часах 22:00.\n",
      "Добрый вечер!\n",
      "На часах 23:00.\n",
      "Доброй ночи!\n"
     ]
    }
   ],
   "source": [
    "for current_hour in range(0, 24):\n",
    "    print(\"На часах \" + str(current_hour) + \":00.\")\n",
    "    # Вместо многоточий напишите код\n",
    "    if current_hour < 6:\n",
    "        print('Доброй ночи!')\n",
    "    elif current_hour < 12:\n",
    "        print('Доброе утро!')\n",
    "    elif current_hour < 18:\n",
    "        print('Добрый день!')\n",
    "    elif current_hour <23:\n",
    "        print('Добрый вечер!')\n",
    "    else:\n",
    "        print('Доброй ночи!')"
   ],
   "metadata": {
    "collapsed": false
   }
  },
  {
   "cell_type": "code",
   "execution_count": 18,
   "outputs": [
    {
     "name": "stdout",
     "output_type": "stream",
     "text": [
      "На часах 0:00.\n",
      "На часах 1:00.\n",
      "На часах 2:00.\n",
      "На часах 3:00.\n",
      "На часах 4:00.\n",
      "На часах 5:00.\n",
      "На часах 6:00.\n",
      "Доброе утро!\n",
      "На часах 7:00.\n",
      "Доброе утро!\n",
      "На часах 8:00.\n",
      "Доброе утро!\n",
      "На часах 9:00.\n",
      "Доброе утро!\n",
      "На часах 10:00.\n",
      "Доброе утро!\n",
      "На часах 11:00.\n",
      "Доброе утро!\n",
      "На часах 12:00.\n",
      "Добрый день!\n",
      "На часах 13:00.\n",
      "Добрый день!\n",
      "На часах 14:00.\n",
      "Добрый день!\n",
      "На часах 15:00.\n",
      "Добрый день!\n",
      "На часах 16:00.\n",
      "Добрый день!\n",
      "На часах 17:00.\n",
      "Добрый день!\n",
      "На часах 18:00.\n",
      "Добрый вечер!\n",
      "На часах 19:00.\n",
      "Добрый вечер!\n",
      "На часах 20:00.\n",
      "Добрый вечер!\n",
      "На часах 21:00.\n",
      "Добрый вечер!\n",
      "На часах 22:00.\n",
      "Добрый вечер!\n",
      "На часах 23:00.\n"
     ]
    }
   ],
   "source": [
    "for current_hour in range(0, 24):\n",
    "    print(\"На часах \" + str(current_hour) + \":00.\")\n",
    "\n",
    "    if current_hour >= 6 and current_hour <= 11 :\n",
    "        print('Доброе утро!')\n",
    "    elif current_hour >= 12 and current_hour <= 17:\n",
    "        print('Добрый день!')\n",
    "    elif current_hour >= 18 and current_hour <= 22:\n",
    "        print('Добрый вечер!')\n",
    "    elif current_hour <= 5 and current_hour >= 23:\n",
    "        print('Доброй ночи!')\n"
   ],
   "metadata": {
    "collapsed": false
   }
  },
  {
   "cell_type": "markdown",
   "source": [
    "### Task 3"
   ],
   "metadata": {
    "collapsed": false
   }
  },
  {
   "cell_type": "code",
   "execution_count": 19,
   "outputs": [
    {
     "name": "stdout",
     "output_type": "stream",
     "text": [
      "На часах 0:00.\n",
      "Доброй ночи!\n",
      "На часах 1:00.\n",
      "Доброй ночи!\n",
      "На часах 2:00.\n",
      "Доброй ночи!\n",
      "На часах 3:00.\n",
      "Доброй ночи!\n",
      "На часах 4:00.\n",
      "Доброй ночи!\n",
      "На часах 5:00.\n",
      "Доброй ночи!\n",
      "На часах 6:00.\n",
      "Доброе утро!\n",
      "На часах 7:00.\n",
      "Доброе утро!\n",
      "На часах 8:00.\n",
      "Доброе утро!\n",
      "На часах 9:00.\n",
      "Доброе утро!\n",
      "На часах 10:00.\n",
      "Доброе утро!\n",
      "На часах 11:00.\n",
      "Доброе утро!\n",
      "На часах 12:00.\n",
      "Добрый день!\n",
      "На часах 13:00.\n",
      "Добрый день!\n",
      "На часах 14:00.\n",
      "Добрый день!\n",
      "На часах 15:00.\n",
      "Добрый день!\n",
      "На часах 16:00.\n",
      "Добрый день!\n",
      "На часах 17:00.\n",
      "Добрый день!\n",
      "На часах 18:00.\n",
      "Добрый вечер!\n",
      "На часах 19:00.\n",
      "Добрый вечер!\n",
      "На часах 20:00.\n",
      "Добрый вечер!\n",
      "На часах 21:00.\n",
      "Добрый вечер!\n",
      "На часах 22:00.\n",
      "Добрый вечер!\n",
      "На часах 23:00.\n",
      "Доброй ночи!\n"
     ]
    }
   ],
   "source": [
    "for current_hour in range(0, 24):\n",
    "    print(\"На часах \" + str(current_hour) + \":00.\")\n",
    "\n",
    "    if current_hour >= 6 and current_hour <= 11 :\n",
    "        print('Доброе утро!')\n",
    "    elif current_hour >= 12 and current_hour <= 17:\n",
    "        print('Добрый день!')\n",
    "    elif current_hour >= 18 and current_hour <= 22:\n",
    "        print('Добрый вечер!')\n",
    "    elif current_hour <= 5 or current_hour >= 23:\n",
    "        print('Доброй ночи!')\n"
   ],
   "metadata": {
    "collapsed": false
   }
  },
  {
   "cell_type": "code",
   "execution_count": 20,
   "outputs": [
    {
     "name": "stdout",
     "output_type": "stream",
     "text": [
      "У вас нет новых сообщений\n",
      "У вас 1 новое сообщение\n",
      "У вас 2 новых сообщения\n",
      "У вас 3 новых сообщения\n",
      "У вас 4 новых сообщения\n",
      "У вас 5 новых сообщений\n",
      "У вас 6 новых сообщений\n",
      "У вас 7 новых сообщений\n",
      "У вас 8 новых сообщений\n",
      "У вас 9 новых сообщений\n",
      "У вас 10 новых сообщений\n",
      "У вас 11 новых сообщений\n",
      "У вас 12 новых сообщений\n",
      "У вас 13 новых сообщений\n",
      "У вас 14 новых сообщений\n",
      "У вас 15 новых сообщений\n",
      "У вас 16 новых сообщений\n",
      "У вас 17 новых сообщений\n",
      "У вас 18 новых сообщений\n",
      "У вас 19 новых сообщений\n",
      "У вас 20 новых сообщений\n"
     ]
    }
   ],
   "source": [
    "# Добавьте новые условия в elif и else\n",
    "for messages_count in range(0, 21):\n",
    "    if messages_count == 0:\n",
    "        print('У вас нет новых сообщений')\n",
    "    elif messages_count == 1:\n",
    "        print('У вас 1 новое сообщение')\n",
    "    elif messages_count >=2 and messages_count <= 4:\n",
    "        print('У вас', messages_count, 'новых сообщения')\n",
    "    else:\n",
    "        print('У вас', messages_count, 'новых сообщений')\n"
   ],
   "metadata": {
    "collapsed": false
   }
  },
  {
   "cell_type": "markdown",
   "source": [],
   "metadata": {
    "collapsed": false
   }
  },
  {
   "cell_type": "code",
   "execution_count": null,
   "outputs": [],
   "source": [],
   "metadata": {
    "collapsed": false
   }
  }
 ],
 "metadata": {
  "kernelspec": {
   "display_name": "Python 3",
   "language": "python",
   "name": "python3"
  },
  "language_info": {
   "codemirror_mode": {
    "name": "ipython",
    "version": 2
   },
   "file_extension": ".py",
   "mimetype": "text/x-python",
   "name": "python",
   "nbconvert_exporter": "python",
   "pygments_lexer": "ipython2",
   "version": "2.7.6"
  }
 },
 "nbformat": 4,
 "nbformat_minor": 0
}
